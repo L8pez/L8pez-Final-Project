# ========================================
# Weather + Transport Safety Project
# Skeleton Notebook for Peckham DAZ Final Project
# ========================================

# Section 1: Imports
import pandas as pd
import matplotlib.pyplot as plt
import seaborn as sns
import plotly.express as px

# Optional for later
import requests
import json

# ========================================
# Section 2: Mock Data / Load Data
# ========================================

# Example mock weather data
weather_data = pd.DataFrame([
    {"date": "2025-08-01", "temp": 22, "rain_mm": 5},
    {"date": "2025-08-02", "temp": 25, "rain_mm": 0},
    {"date": "2025-08-03", "temp": 18, "rain_mm": 10},
])

# Example mock transport disruptions
tfl_disruptions = pd.DataFrame([
    {"date": "2025-08-01", "line": "Northern", "incidents": 2},
    {"date": "2025-08-02", "line": "Victoria", "incidents": 0},
    {"date": "2025-08-03", "line": "Bakerloo", "incidents": 3},
])

# ========================================
# Section 3: Data Cleaning & Merge
# ========================================

# Convert 'date' to datetime
weather_data['date'] = pd.to_datetime(weather_data['date'])
tfl_disruptions['date'] = pd.to_datetime(tfl_disruptions['date'])

# Merge datasets on date
merged_data = pd.merge(tfl_disruptions, weather_data, on='date', how='left')

# Display merged data
merged_data.head()

# ========================================
# Section 4: Analysis
# ========================================

# Example: correlation between rain and disruptions
corr = merged_data['rain_mm'].corr(merged_data['incidents'])
print(f"Correlation between rainfall and disruptions: {corr:.2f}")

# Group by line for summary
line_summary = merged_data.groupby('line')['incidents'].sum().reset_index()
line_summary

# ========================================
# Section 5: Visualization
# ========================================

# Simple Matplotlib bar chart for disruptions per line
plt.figure(figsize=(6,4))
sns.barplot(x='line', y='incidents', data=line_summary)
plt.title("Total Disruptions per Line")
plt.xlabel("Line")
plt.ylabel("Number of Incidents")
plt.show()

# Interactive Plotly chart
fig = px.line(merged_data, x='date', y='incidents', color='line',
              title='Daily Disruptions per Line')
fig.show()

# ========================================
# Section 6: Public Version Alerts
# ========================================

# Example: alert if rain > 5mm
merged_data['alert'] = merged_data['rain_mm'].apply(lambda x: "⚠️ High disruption risk!" if x > 5 else "✅ Normal")
merged_data[['date','line','incidents','rain_mm','alert']]

# ========================================
# Section 7: Next Steps / API Integration
# ========================================

# TODO: Replace mock data with OpenWeather API and TFL API calls
# TODO: Add more advanced visualizations
# TODO: Add borough-level aggregation for Gov/TFL version

